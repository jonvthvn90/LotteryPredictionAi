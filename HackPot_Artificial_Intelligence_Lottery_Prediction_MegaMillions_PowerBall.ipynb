{
  "nbformat": 4,
  "nbformat_minor": 0,
  "metadata": {
    "colab": {
      "provenance": [],
      "authorship_tag": "ABX9TyOKfV5TiAJBd11A0HLFNQBe"
    },
    "kernelspec": {
      "name": "python3",
      "display_name": "Python 3"
    },
    "language_info": {
      "name": "python"
    }
  },
  "cells": [
    {
      "cell_type": "markdown",
      "source": [
        "**# Step 1: Install Required Libraries**\n"
      ],
      "metadata": {
        "id": "q-xCsXkTLHaJ"
      }
    },
    {
      "cell_type": "code",
      "execution_count": 1,
      "metadata": {
        "colab": {
          "base_uri": "https://localhost:8080/"
        },
        "id": "qx_9CcyPLE76",
        "outputId": "8e8750de-9603-4085-83fa-43e797a53ae4"
      },
      "outputs": [
        {
          "output_type": "stream",
          "name": "stdout",
          "text": [
            "Requirement already satisfied: requests in /usr/local/lib/python3.10/dist-packages (2.32.3)\n",
            "Requirement already satisfied: beautifulsoup4 in /usr/local/lib/python3.10/dist-packages (4.12.3)\n",
            "Requirement already satisfied: charset-normalizer<4,>=2 in /usr/local/lib/python3.10/dist-packages (from requests) (3.4.0)\n",
            "Requirement already satisfied: idna<4,>=2.5 in /usr/local/lib/python3.10/dist-packages (from requests) (3.10)\n",
            "Requirement already satisfied: urllib3<3,>=1.21.1 in /usr/local/lib/python3.10/dist-packages (from requests) (2.2.3)\n",
            "Requirement already satisfied: certifi>=2017.4.17 in /usr/local/lib/python3.10/dist-packages (from requests) (2024.8.30)\n",
            "Requirement already satisfied: soupsieve>1.2 in /usr/local/lib/python3.10/dist-packages (from beautifulsoup4) (2.6)\n"
          ]
        }
      ],
      "source": [
        "!pip install requests beautifulsoup4\n"
      ]
    },
    {
      "cell_type": "markdown",
      "source": [
        "# **Step 2: Fetch Data from the Web Links**\n",
        "### *Now, a Python script to scrape the historical lottery data from the two links*"
      ],
      "metadata": {
        "id": "sN6PRt4zLXVt"
      }
    },
    {
      "cell_type": "code",
      "source": [
        "import requests\n",
        "from bs4 import BeautifulSoup\n",
        "import pandas as pd\n",
        "import re\n",
        "\n",
        "# Function to fetch Mega Millions data\n",
        "def fetch_mega_millions_data():\n",
        "    url = 'https://www.valottery.com/api/v1/downloadall?gameId=15'  # URL for Mega Millions data\n",
        "    response = requests.get(url)\n",
        "    content = response.content.decode('utf-8')  # Decode the byte response\n",
        "\n",
        "    # Clean and process data\n",
        "    data = []\n",
        "    lines = content.splitlines()\n",
        "    for line in lines:\n",
        "        if re.match(r\"\\d{2}/\\d{2}/\\d{4};\", line):  # Match date format\n",
        "            parts = line.split(';')\n",
        "            date = parts[0]\n",
        "            numbers = parts[1].split(',')\n",
        "            mega_ball = parts[2].split(':')[-1].strip()\n",
        "            data.append([date] + numbers + [mega_ball])\n",
        "\n",
        "    # Convert to DataFrame\n",
        "    columns = ['Date', 'Number1', 'Number2', 'Number3', 'Number4', 'Number5', 'MegaBall']\n",
        "    df = pd.DataFrame(data, columns=columns)\n",
        "    df['Date'] = pd.to_datetime(df['Date'], format='%m/%d/%Y')\n",
        "\n",
        "    return df\n",
        "\n",
        "# Function to fetch Powerball data\n",
        "def fetch_powerball_data():\n",
        "    url = 'https://www.valottery.com/api/v1/downloadall?gameId=20'  # URL for Powerball data\n",
        "    response = requests.get(url)\n",
        "    content = response.content.decode('utf-8')  # Decode the byte response\n",
        "\n",
        "    # Clean and process data\n",
        "    data = []\n",
        "    lines = content.splitlines()\n",
        "    for line in lines:\n",
        "        if re.match(r\"\\d{2}/\\d{2}/\\d{4};\", line):  # Match date format\n",
        "            parts = line.split(';')\n",
        "            date = parts[0]\n",
        "            numbers = parts[1].split(',')\n",
        "            powerball = parts[2].split(':')[-1].strip()\n",
        "            data.append([date] + numbers + [powerball])\n",
        "\n",
        "    # Convert to DataFrame\n",
        "    columns = ['Date', 'Number1', 'Number2', 'Number3', 'Number4', 'Number5', 'Powerball']\n",
        "    df = pd.DataFrame(data, columns=columns)\n",
        "    df['Date'] = pd.to_datetime(df['Date'], format='%m/%d/%Y')\n",
        "\n",
        "    return df\n",
        "\n",
        "# Fetch data for Mega Millions and Powerball\n",
        "mega_millions_data = fetch_mega_millions_data()\n",
        "powerball_data = fetch_powerball_data()\n",
        "\n",
        "# Display the fetched data\n",
        "print(\"Mega Millions Data:\")\n",
        "print(mega_millions_data.head())\n",
        "\n",
        "print(\"\\nPowerball Data:\")\n",
        "print(powerball_data.head())\n"
      ],
      "metadata": {
        "colab": {
          "base_uri": "https://localhost:8080/"
        },
        "id": "Qg1mm2raLXtI",
        "outputId": "280bec3d-c837-4be0-bc06-b988323f2b7f"
      },
      "execution_count": 2,
      "outputs": [
        {
          "output_type": "stream",
          "name": "stdout",
          "text": [
            "Mega Millions Data:\n",
            "        Date Number1 Number2 Number3 Number4 Number5 MegaBall\n",
            "0 2024-10-22       8      43      48      58      60        4\n",
            "1 2024-10-18       4       9      26      39      58       23\n",
            "2 2024-10-15      22      34      44      54      62        3\n",
            "3 2024-10-11       3      10      29      52      57       20\n",
            "4 2023-12-29      11      27      30      62      70       10\n",
            "\n",
            "Powerball Data:\n",
            "        Date Number1 Number2 Number3 Number4 Number5 Powerball\n",
            "0 2024-10-23       2      15      27      29      39        20\n",
            "1 2024-10-21       1      25      57      62      64        15\n",
            "2 2024-10-19       7      16      19      45      64        25\n",
            "3 2024-10-16       4      30      39      44      60        11\n",
            "4 2024-10-14      14      18      33      64      67        14\n"
          ]
        }
      ]
    },
    {
      "cell_type": "markdown",
      "source": [
        "# **Fetching Mega Millions and Powerball Data from APIs**\n",
        "### *Requests to fetch the data and integrate it into our AI model.*\n",
        "**Results for 6th Number may be over 25 and 26 Limit. Repurpose that number to inside the the line and replace it with a number under 25 or 26 to their respective games.**"
      ],
      "metadata": {
        "id": "Fp1Hzkr_Mg4c"
      }
    },
    {
      "cell_type": "code",
      "source": [],
      "metadata": {
        "id": "v9OVmZi-Q5LW"
      },
      "execution_count": null,
      "outputs": []
    },
    {
      "cell_type": "code",
      "source": [
        "import requests\n",
        "import pandas as pd\n",
        "import numpy as np\n",
        "import random\n",
        "from sklearn.ensemble import RandomForestClassifier\n",
        "from sklearn.neural_network import MLPClassifier\n",
        "\n",
        "# API URLs for Mega Millions and Powerball\n",
        "MEGA_MILLIONS_API = 'https://www.valottery.com/api/v1/downloadall?gameId=15'\n",
        "POWERBALL_API = 'https://www.valottery.com/api/v1/downloadall?gameId=20'\n",
        "\n",
        "# Fetch Mega Millions Data\n",
        "def fetch_mega_millions_data():\n",
        "    response = requests.get(MEGA_MILLIONS_API)\n",
        "    if response.status_code == 200:\n",
        "        return process_api_data(response.text, 'MegaBall')\n",
        "    else:\n",
        "        raise Exception(\"Failed to fetch Mega Millions data\")\n",
        "\n",
        "# Fetch Powerball Data\n",
        "def fetch_powerball_data():\n",
        "    response = requests.get(POWERBALL_API)\n",
        "    if response.status_code == 200:\n",
        "        return process_api_data(response.text, 'Powerball')\n",
        "    else:\n",
        "        raise Exception(\"Failed to fetch Powerball data\")\n",
        "\n",
        "# Process the API data (assuming CSV format with semicolons)\n",
        "def process_api_data(data, ball_type):\n",
        "    # Load the data into a pandas dataframe\n",
        "    rows = data.splitlines()\n",
        "    structured_data = []\n",
        "    for row in rows:\n",
        "        # Check if the row has enough values to unpack\n",
        "        if row.count(';') >= 2:  # Check for at least 2 semicolons\n",
        "            date, numbers, extra_ball = row.split(';', 2)  # Limit split to 2\n",
        "            num_list = [int(n) for n in numbers.split(',')]\n",
        "            ball = int(extra_ball.split(':')[-1])\n",
        "            structured_data.append(num_list + [ball])\n",
        "\n",
        "    columns = ['Number1', 'Number2', 'Number3', 'Number4', 'Number5', ball_type]\n",
        "    df = pd.DataFrame(structured_data, columns=columns)\n",
        "    return df\n",
        "\n",
        "# Frequency Analysis\n",
        "def frequency_analysis(data):\n",
        "    numbers = data[['Number1', 'Number2', 'Number3', 'Number4', 'Number5']].values.flatten()\n",
        "    freq = np.bincount(numbers)\n",
        "    return np.argsort(freq)[-5:]  # Return 5 most frequent numbers\n",
        "\n",
        "# Supervised Learning (Random Forest)\n",
        "def random_forest_prediction(data):\n",
        "    X = data[['Number1', 'Number2', 'Number3', 'Number4', 'Number5']].values\n",
        "    y = data[['MegaBall' if 'MegaBall' in data.columns else 'Powerball']].values.ravel()\n",
        "\n",
        "    model = RandomForestClassifier(n_estimators=100)\n",
        "    model.fit(X, y)\n",
        "\n",
        "    predictions = model.predict(X[-5:])\n",
        "    return predictions\n",
        "\n",
        "# Deep Learning (Neural Network)\n",
        "def neural_network_prediction(data):\n",
        "    X = data[['Number1', 'Number2', 'Number3', 'Number4', 'Number5']].values\n",
        "    y = data[['MegaBall' if 'MegaBall' in data.columns else 'Powerball']].values.ravel()\n",
        "\n",
        "    model = MLPClassifier(hidden_layer_sizes=(100, 100), max_iter=500)\n",
        "    model.fit(X, y)\n",
        "\n",
        "    predictions = model.predict(X[-5:])\n",
        "    return predictions\n",
        "\n",
        "# Genetic Algorithm for evolving predictions\n",
        "def genetic_algorithm_optimization(predictions, data):\n",
        "    population_size = 100\n",
        "    generations = 50\n",
        "    population = np.random.randint(1, 70, size=(population_size, 5))  # 1-70 for the numbers\n",
        "\n",
        "    def fitness(individual):\n",
        "        return np.sum(np.isin(individual, predictions))  # Fitness based on match with predictions\n",
        "\n",
        "    for _ in range(generations):\n",
        "        fitness_scores = np.array([fitness(ind) for ind in population])\n",
        "        selected = population[np.argsort(fitness_scores)[-20:]]  # Select top 20\n",
        "        next_generation = []\n",
        "        for _ in range(population_size):\n",
        "            parent1, parent2 = selected[np.random.choice(len(selected), 2, replace=False)]\n",
        "            crossover = np.random.randint(1, 5)\n",
        "            child = np.concatenate([parent1[:crossover], parent2[crossover:]])\n",
        "            next_generation.append(child)\n",
        "        population = np.array(next_generation)\n",
        "\n",
        "    best_individual = population[np.argmax(fitness_scores)]\n",
        "    return best_individual\n",
        "\n",
        "# MCMC for random probabilistic prediction\n",
        "def mcmc_prediction(data):\n",
        "    numbers = data[['Number1', 'Number2', 'Number3', 'Number4', 'Number5']].values.flatten()\n",
        "    probs = np.bincount(numbers) / len(numbers)\n",
        "    return np.random.choice(range(len(probs)), p=probs, size=5, replace=False)\n",
        "\n",
        "# Combine all techniques to get predictions\n",
        "def combined_predictions(data, lottery_type='MegaMillions'):\n",
        "    print(f\"Predicting for: {lottery_type}\")\n",
        "\n",
        "    # Frequency Analysis\n",
        "    freq_analysis_result = frequency_analysis(data)\n",
        "\n",
        "    # Random Forest\n",
        "    rf_result = random_forest_prediction(data)\n",
        "\n",
        "    # Neural Network\n",
        "    nn_result = neural_network_prediction(data)\n",
        "\n",
        "    # Genetic Algorithm Optimization\n",
        "    ga_result = genetic_algorithm_optimization(freq_analysis_result, data)\n",
        "\n",
        "    # MCMC Result\n",
        "    mcmc_result = mcmc_prediction(data)\n",
        "\n",
        "    # Combine predictions (ensemble approach)\n",
        "    combined_results = np.concatenate([freq_analysis_result, rf_result, nn_result, ga_result, mcmc_result])\n",
        "    final_prediction = np.random.choice(combined_results, size=5, replace=False)  # Choose 5 final numbers\n",
        "\n",
        "    # MegaBall or Powerball prediction\n",
        "    powerball_prediction = random.choice(data['MegaBall' if lottery_type == 'MegaMillions' else 'Powerball'].values)\n",
        "\n",
        "    print(f\"Numbers: {final_prediction} | {'MegaBall' if lottery_type == 'MegaMillions' else 'Powerball'}: {powerball_prediction}\")\n",
        "    return final_prediction, powerball_prediction\n",
        "\n",
        "# Main function to predict 5 results for MegaMillions and Powerball\n",
        "def main():\n",
        "    # Fetch historical data\n",
        "    mega_millions_data = fetch_mega_millions_data()\n",
        "    powerball_data = fetch_powerball_data()\n",
        "\n",
        "    # Generate 5 predictions for Mega Millions\n",
        "    print(\"Mega Millions Predictions:\")\n",
        "    for _ in range(5):\n",
        "        combined_predictions(mega_millions_data, 'MegaMillions')\n",
        "\n",
        "    # Generate 5 predictions for Powerball\n",
        "    print(\"\\nPowerball Predictions:\")\n",
        "    for _ in range(5):\n",
        "        combined_predictions(powerball_data, 'Powerball')\n",
        "\n",
        "# Run the prediction script\n",
        "main()\n"
      ],
      "metadata": {
        "colab": {
          "base_uri": "https://localhost:8080/"
        },
        "id": "Ev5pSYSIMhLY",
        "outputId": "086cfce4-e12a-4854-9747-ab5b8d8283b6"
      },
      "execution_count": 10,
      "outputs": [
        {
          "output_type": "stream",
          "name": "stdout",
          "text": [
            "Mega Millions Predictions:\n",
            "Predicting for: MegaMillions\n",
            "Numbers: [31 46 17 21  8] | MegaBall: 25\n",
            "Predicting for: MegaMillions\n",
            "Numbers: [19  4 20 10  3] | MegaBall: 18\n",
            "Predicting for: MegaMillions\n"
          ]
        },
        {
          "output_type": "stream",
          "name": "stderr",
          "text": [
            "/usr/local/lib/python3.10/dist-packages/sklearn/neural_network/_multilayer_perceptron.py:690: ConvergenceWarning: Stochastic Optimizer: Maximum iterations (500) reached and the optimization hasn't converged yet.\n",
            "  warnings.warn(\n"
          ]
        },
        {
          "output_type": "stream",
          "name": "stdout",
          "text": [
            "Numbers: [17  1 42 31 15] | MegaBall: 35\n",
            "Predicting for: MegaMillions\n"
          ]
        },
        {
          "output_type": "stream",
          "name": "stderr",
          "text": [
            "/usr/local/lib/python3.10/dist-packages/sklearn/neural_network/_multilayer_perceptron.py:690: ConvergenceWarning: Stochastic Optimizer: Maximum iterations (500) reached and the optimization hasn't converged yet.\n",
            "  warnings.warn(\n"
          ]
        },
        {
          "output_type": "stream",
          "name": "stdout",
          "text": [
            "Numbers: [10 46 36 25  8] | MegaBall: 52\n",
            "Predicting for: MegaMillions\n",
            "Numbers: [ 1 16 20  2 17] | MegaBall: 9\n",
            "\n",
            "Powerball Predictions:\n",
            "Predicting for: Powerball\n",
            "Numbers: [32 28  1  1 32] | Powerball: 17\n",
            "Predicting for: Powerball\n",
            "Numbers: [12 24 53 21 24] | Powerball: 15\n",
            "Predicting for: Powerball\n"
          ]
        },
        {
          "output_type": "stream",
          "name": "stderr",
          "text": [
            "/usr/local/lib/python3.10/dist-packages/sklearn/neural_network/_multilayer_perceptron.py:690: ConvergenceWarning: Stochastic Optimizer: Maximum iterations (500) reached and the optimization hasn't converged yet.\n",
            "  warnings.warn(\n"
          ]
        },
        {
          "output_type": "stream",
          "name": "stdout",
          "text": [
            "Numbers: [34 36 32  4 28] | Powerball: 4\n",
            "Predicting for: Powerball\n",
            "Numbers: [21 26 24 36 34] | Powerball: 5\n",
            "Predicting for: Powerball\n",
            "Numbers: [55 21  1 38 36] | Powerball: 34\n"
          ]
        }
      ]
    },
    {
      "cell_type": "markdown",
      "source": [],
      "metadata": {
        "id": "Z7J_AeV-TUaf"
      }
    },
    {
      "cell_type": "code",
      "source": [
        "import pandas as pd\n",
        "import numpy as np\n",
        "import random\n",
        "from sklearn.ensemble import RandomForestClassifier\n",
        "from sklearn.neural_network import MLPClassifier\n",
        "\n",
        "# API URLs for Mega Millions and Powerball\n",
        "MEGA_MILLIONS_API = 'https://www.valottery.com/api/v1/downloadall?gameId=15'\n",
        "POWERBALL_API = 'https://www.valottery.com/api/v1/downloadall?gameId=20'\n",
        "\n",
        "# Fetch Mega Millions Data\n",
        "def fetch_mega_millions_data():\n",
        "    response = requests.get(MEGA_MILLIONS_API)\n",
        "    if response.status_code == 200:\n",
        "        return process_api_data(response.text, 'MegaBall')\n",
        "    else:\n",
        "        raise Exception(\"Failed to fetch Mega Millions data\")\n",
        "\n",
        "# Fetch Powerball Data\n",
        "def fetch_powerball_data():\n",
        "    response = requests.get(POWERBALL_API)\n",
        "    if response.status_code == 200:\n",
        "        return process_api_data(response.text, 'Powerball')\n",
        "    else:\n",
        "        raise Exception(\"Failed to fetch Powerball data\")\n",
        "\n",
        "# Process the API data (assuming CSV format with semicolons)\n",
        "def process_api_data(data, ball_type):\n",
        "    # Load the data into a pandas dataframe\n",
        "    rows = data.splitlines()\n",
        "    structured_data = []\n",
        "    for row in rows:\n",
        "        # Check if the row has enough values to unpack\n",
        "        if row.count(';') >= 2:  # Check for at least 2 semicolons\n",
        "            date, numbers, extra_ball = row.split(';', 2)  # Limit split to 2\n",
        "            num_list = [int(n) for n in numbers.split(',')]\n",
        "            ball = int(extra_ball.split(':')[-1])\n",
        "            structured_data.append(num_list + [ball])\n",
        "\n",
        "    columns = ['Number1', 'Number2', 'Number3', 'Number4', 'Number5', ball_type]\n",
        "    df = pd.DataFrame(structured_data, columns=columns)\n",
        "\n",
        "    # Add decile calculations\n",
        "    df = add_deciles(df)\n",
        "\n",
        "    return df\n",
        "\n",
        "# Add decile columns to the dataset\n",
        "def add_deciles(df):\n",
        "    for col in ['Number1', 'Number2', 'Number3', 'Number4', 'Number5']:\n",
        "        df[col + '_Decile'] = pd.qcut(df[col], 10, labels=False)\n",
        "    return df\n",
        "\n",
        "# Frequency Analysis\n",
        "def frequency_analysis(data):\n",
        "    numbers = data[['Number1', 'Number2', 'Number3', 'Number4', 'Number5']].values.flatten()\n",
        "    freq = np.bincount(numbers)\n",
        "    return np.argsort(freq)[-5:]  # Return 5 most frequent numbers\n",
        "\n",
        "# Supervised Learning (Random Forest) with deciles\n",
        "def random_forest_prediction(data):\n",
        "    features = ['Number1', 'Number2', 'Number3', 'Number4', 'Number5',\n",
        "                'Number1_Decile', 'Number2_Decile', 'Number3_Decile', 'Number4_Decile', 'Number5_Decile']\n",
        "\n",
        "    X = data[features].values\n",
        "    y = data[['MegaBall' if 'MegaBall' in data.columns else 'Powerball']].values.ravel()\n",
        "\n",
        "    model = RandomForestClassifier(n_estimators=100)\n",
        "    model.fit(X, y)\n",
        "\n",
        "    predictions = model.predict(X[-5:])\n",
        "    return predictions\n",
        "\n",
        "# Deep Learning (Neural Network) with deciles\n",
        "def neural_network_prediction(data):\n",
        "    features = ['Number1', 'Number2', 'Number3', 'Number4', 'Number5',\n",
        "                'Number1_Decile', 'Number2_Decile', 'Number3_Decile', 'Number4_Decile', 'Number5_Decile']\n",
        "\n",
        "    X = data[features].values\n",
        "    y = data[['MegaBall' if 'MegaBall' in data.columns else 'Powerball']].values.ravel()\n",
        "\n",
        "    model = MLPClassifier(hidden_layer_sizes=(100, 100), max_iter=500)\n",
        "    model.fit(X, y)\n",
        "\n",
        "    predictions = model.predict(X[-5:])\n",
        "    return predictions\n",
        "\n",
        "# Genetic Algorithm for evolving predictions\n",
        "def genetic_algorithm_optimization(predictions, data):\n",
        "    population_size = 100\n",
        "    generations = 50\n",
        "    population = np.random.randint(1, 70, size=(population_size, 5))  # 1-70 for the numbers\n",
        "\n",
        "    def fitness(individual):\n",
        "        return np.sum(np.isin(individual, predictions))  # Fitness based on match with predictions\n",
        "\n",
        "    for _ in range(generations):\n",
        "        fitness_scores = np.array([fitness(ind) for ind in population])\n",
        "        selected = population[np.argsort(fitness_scores)[-20:]]  # Select top 20\n",
        "        next_generation = []\n",
        "        for _ in range(population_size):\n",
        "            parent1, parent2 = selected[np.random.choice(len(selected), 2, replace=False)]\n",
        "            crossover = np.random.randint(1, 5)\n",
        "            child = np.concatenate([parent1[:crossover], parent2[crossover:]])\n",
        "            next_generation.append(child)\n",
        "        population = np.array(next_generation)\n",
        "\n",
        "    best_individual = population[np.argmax(fitness_scores)]\n",
        "    return best_individual\n",
        "\n",
        "# MCMC for random probabilistic prediction\n",
        "def mcmc_prediction(data):\n",
        "    numbers = data[['Number1', 'Number2', 'Number3', 'Number4', 'Number5']].values.flatten()\n",
        "    probs = np.bincount(numbers) / len(numbers)\n",
        "    return np.random.choice(range(len(probs)), p=probs, size=5, replace=False)\n",
        "\n",
        "# Combine all techniques to get predictions\n",
        "def combined_predictions(data, lottery_type='MegaMillions'):\n",
        "    print(f\"Predicting for: {lottery_type}\")\n",
        "\n",
        "    # Frequency Analysis\n",
        "    freq_analysis_result = frequency_analysis(data)\n",
        "\n",
        "    # Random Forest\n",
        "    rf_result = random_forest_prediction(data)\n",
        "\n",
        "    # Neural Network\n",
        "    nn_result = neural_network_prediction(data)\n",
        "\n",
        "    # Genetic Algorithm Optimization\n",
        "    ga_result = genetic_algorithm_optimization(freq_analysis_result, data)\n",
        "\n",
        "    # MCMC Result\n",
        "    mcmc_result = mcmc_prediction(data)\n",
        "\n",
        "    # Combine predictions (ensemble approach)\n",
        "    combined_results = np.concatenate([freq_analysis_result, rf_result, nn_result, ga_result, mcmc_result])\n",
        "    final_prediction = np.random.choice(combined_results, size=5, replace=False)  # Choose 5 final numbers\n",
        "\n",
        "    # MegaBall or Powerball prediction\n",
        "    powerball_prediction = random.choice(data['MegaBall' if lottery_type == 'MegaMillions' else 'Powerball'].values)\n",
        "\n",
        "    print(f\"Numbers: {final_prediction} | {'MegaBall' if lottery_type == 'MegaMillions' else 'Powerball'}: {powerball_prediction}\")\n",
        "    return final_prediction, powerball_prediction\n",
        "\n",
        "# Main function to predict 5 results for MegaMillions and Powerball\n",
        "def main():\n",
        "    # Fetch historical data\n",
        "    mega_millions_data = fetch_mega_millions_data()\n",
        "    powerball_data = fetch_powerball_data()\n",
        "\n",
        "    # Generate 5 predictions for Mega Millions\n",
        "    print(\"Mega Millions Predictions:\")\n",
        "    for _ in range(5):\n",
        "        combined_predictions(mega_millions_data, 'MegaMillions')\n",
        "\n",
        "    # Generate 5 predictions for Powerball\n",
        "    print(\"\\nPowerball Predictions:\")\n",
        "    for _ in range(5):\n",
        "        combined_predictions(powerball_data, 'Powerball')\n",
        "\n",
        "# Run the prediction script\n",
        "main()\n"
      ],
      "metadata": {
        "colab": {
          "base_uri": "https://localhost:8080/"
        },
        "id": "Z3u5BTYcTUuG",
        "outputId": "4d430b5a-ab23-44b5-f8f9-a7c8cde02e82"
      },
      "execution_count": 11,
      "outputs": [
        {
          "output_type": "stream",
          "name": "stdout",
          "text": [
            "Mega Millions Predictions:\n",
            "Predicting for: MegaMillions\n"
          ]
        },
        {
          "output_type": "stream",
          "name": "stderr",
          "text": [
            "/usr/local/lib/python3.10/dist-packages/sklearn/neural_network/_multilayer_perceptron.py:690: ConvergenceWarning: Stochastic Optimizer: Maximum iterations (500) reached and the optimization hasn't converged yet.\n",
            "  warnings.warn(\n"
          ]
        },
        {
          "output_type": "stream",
          "name": "stdout",
          "text": [
            "Numbers: [22 23 20 10 46] | MegaBall: 16\n",
            "Predicting for: MegaMillions\n",
            "Numbers: [46 17 19 31 36] | MegaBall: 9\n",
            "Predicting for: MegaMillions\n"
          ]
        },
        {
          "output_type": "stream",
          "name": "stderr",
          "text": [
            "/usr/local/lib/python3.10/dist-packages/sklearn/neural_network/_multilayer_perceptron.py:690: ConvergenceWarning: Stochastic Optimizer: Maximum iterations (500) reached and the optimization hasn't converged yet.\n",
            "  warnings.warn(\n"
          ]
        },
        {
          "output_type": "stream",
          "name": "stdout",
          "text": [
            "Numbers: [53 10  1 13  8] | MegaBall: 2\n",
            "Predicting for: MegaMillions\n"
          ]
        },
        {
          "output_type": "stream",
          "name": "stderr",
          "text": [
            "/usr/local/lib/python3.10/dist-packages/sklearn/neural_network/_multilayer_perceptron.py:690: ConvergenceWarning: Stochastic Optimizer: Maximum iterations (500) reached and the optimization hasn't converged yet.\n",
            "  warnings.warn(\n"
          ]
        },
        {
          "output_type": "stream",
          "name": "stdout",
          "text": [
            "Numbers: [ 8 31 34  4 20] | MegaBall: 20\n",
            "Predicting for: MegaMillions\n",
            "Numbers: [19 31 20  6 31] | MegaBall: 16\n",
            "\n",
            "Powerball Predictions:\n",
            "Predicting for: Powerball\n"
          ]
        },
        {
          "output_type": "stream",
          "name": "stderr",
          "text": [
            "/usr/local/lib/python3.10/dist-packages/sklearn/neural_network/_multilayer_perceptron.py:690: ConvergenceWarning: Stochastic Optimizer: Maximum iterations (500) reached and the optimization hasn't converged yet.\n",
            "  warnings.warn(\n"
          ]
        },
        {
          "output_type": "stream",
          "name": "stdout",
          "text": [
            "Numbers: [15 14 21 32  4] | Powerball: 19\n",
            "Predicting for: Powerball\n",
            "Numbers: [24 21  8 20 51] | Powerball: 26\n",
            "Predicting for: Powerball\n",
            "Numbers: [28 32 37 17 21] | Powerball: 6\n",
            "Predicting for: Powerball\n"
          ]
        },
        {
          "output_type": "stream",
          "name": "stderr",
          "text": [
            "/usr/local/lib/python3.10/dist-packages/sklearn/neural_network/_multilayer_perceptron.py:690: ConvergenceWarning: Stochastic Optimizer: Maximum iterations (500) reached and the optimization hasn't converged yet.\n",
            "  warnings.warn(\n"
          ]
        },
        {
          "output_type": "stream",
          "name": "stdout",
          "text": [
            "Numbers: [23 35 48 61 57] | Powerball: 1\n",
            "Predicting for: Powerball\n"
          ]
        },
        {
          "output_type": "stream",
          "name": "stderr",
          "text": [
            "/usr/local/lib/python3.10/dist-packages/sklearn/neural_network/_multilayer_perceptron.py:690: ConvergenceWarning: Stochastic Optimizer: Maximum iterations (500) reached and the optimization hasn't converged yet.\n",
            "  warnings.warn(\n"
          ]
        },
        {
          "output_type": "stream",
          "name": "stdout",
          "text": [
            "Numbers: [23 21  8 15 24] | Powerball: 3\n"
          ]
        }
      ]
    }
  ]
}